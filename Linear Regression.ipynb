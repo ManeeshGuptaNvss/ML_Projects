{
  "cells": [
    {
      "cell_type": "markdown",
      "id": "improving-pepper",
      "metadata": {
        "id": "improving-pepper"
      },
      "source": [
        "# Assignment 2 - Question 2\n",
        "The objective of this assignment is to get you familiarize with  the  problem  of  `Linear Regression`.\n",
        "\n",
        "## Instructions\n",
        "- Write your code and analysis in the indicated cells.\n",
        "- Ensure that this notebook runs without errors when the cells are run in sequence.\n",
        "- Do not attempt to change the contents of other cells.\n",
        "- No inbuilt functions to be used until specified\n",
        "\n",
        "## Submission\n",
        "- Ensure that this notebook runs without errors when the cells are run in sequence.\n",
        "- Rename the notebook to `<roll_number>_Assignment2_Q2.ipynb`."
      ]
    },
    {
      "cell_type": "markdown",
      "id": "final-transaction",
      "metadata": {
        "id": "final-transaction"
      },
      "source": [
        "## 2.0 Background about the dataset\n",
        "\n",
        "TLDR: You have 4 independent variables (`float`) for each molecule. You can use a linear combination of these 4 independent variables to predict the bandgap (dependent variable) of each molecule.\n",
        "\n",
        "You can read more about the problem in [Li et al, Bandgap tuning strategy by cations and halide ions of lead halide perovskites learned from machine learning, RSC Adv., 2021,11, 15688-15694](https://doi.org/10.1039/D1RA03117A)."
      ]
    },
    {
      "cell_type": "code",
      "execution_count": 26,
      "id": "lyric-olympus",
      "metadata": {
        "id": "lyric-olympus"
      },
      "outputs": [],
      "source": [
        "import csv\n",
        "import random\n",
        "import numpy as np\n",
        "import pandas as pd\n",
        "import matplotlib.pyplot as plt\n",
        "from sklearn.linear_model import Ridge,Lasso\n",
        "from sklearn.metrics import mean_squared_error\n",
        "from tabulate import tabulate"
      ]
    },
    {
      "cell_type": "code",
      "execution_count": 27,
      "id": "hundred-receipt",
      "metadata": {
        "id": "hundred-receipt"
      },
      "outputs": [],
      "source": [
        "all_molecules = list()\n",
        "\n",
        "with open('bg_data.txt', 'r') as infile:\n",
        "    input_rows = csv.DictReader(infile)\n",
        "    \n",
        "    for row in input_rows:\n",
        "        current_mol = ([float(row['Cs']), float(row['FA']), float(row['Cl']), float(row['Br'])], float(row['Bandgap']))\n",
        "        all_molecules.append(current_mol)\n",
        "\n",
        "random.shuffle(all_molecules)\n",
        "\n",
        "\n",
        "num_train = int(len(all_molecules) * 0.8)\n",
        "\n",
        "# each point in x_train has 4 values - 1 for each feature\n",
        "x_train = [x[0] for x in all_molecules[:num_train]]\n",
        "# each point in y_train has 1 value - the bandgap of the molecule\n",
        "y_train = [x[1] for x in all_molecules[:num_train]]\n",
        "x_test = [x[0] for x in all_molecules[num_train:]]\n",
        "y_test = [x[1] for x in all_molecules[num_train:]]"
      ]
    },
    {
      "cell_type": "code",
      "source": [
        "x_train=np.array(x_train)\n",
        "x_test=np.array(x_test)\n",
        "y_train=np.array(y_train)\n",
        "y_test=np.array(y_test)"
      ],
      "metadata": {
        "id": "yGtedvlJufnL"
      },
      "id": "yGtedvlJufnL",
      "execution_count": 28,
      "outputs": []
    },
    {
      "cell_type": "code",
      "source": [
        "x_train[0],y_train[0]"
      ],
      "metadata": {
        "colab": {
          "base_uri": "https://localhost:8080/"
        },
        "id": "9DAqIYzcmN4U",
        "outputId": "ec4074f1-fe4d-45ce-9805-bfe887233cbc"
      },
      "id": "9DAqIYzcmN4U",
      "execution_count": 29,
      "outputs": [
        {
          "output_type": "execute_result",
          "data": {
            "text/plain": [
              "(array([0.  , 0.  , 0.  , 0.07]), 1.68)"
            ]
          },
          "metadata": {},
          "execution_count": 29
        }
      ]
    },
    {
      "cell_type": "markdown",
      "id": "square-direction",
      "metadata": {
        "id": "square-direction"
      },
      "source": [
        "### 2.1 Implement a Linear Regression model that minimizes the MSE **without using any libraries**. You may use NumPy to vectorize your code, but *do not use numpy.polyfit* or anything similar.\n",
        "\n",
        "2.1.1 Explain how you plan to implement Linear Regression in 5-10 lines."
      ]
    },
    {
      "cell_type": "markdown",
      "id": "frozen-forth",
      "metadata": {
        "id": "frozen-forth"
      },
      "source": [
        "- This problem is an example of multi linear regression. \n",
        "-  Our goal is to find the best fit line from a scatter of data. The labels(output) depends on multiple features(input). \n",
        "- So, we should find an optimum number also called a weight for each feature so that the model can predict accurately. \n",
        "- We first define a method called `Gradient Descent` which calculates the loss and tweaks the model accordingly\n",
        "- As the epochs(iterations)increase, the cost decreases and our model gets closer and closer to the best fit line.\n",
        "- Using the defined function `Gradient Descent` we calculate weight and bias.\n",
        "- we use our testing data and the calculated values of weights and bias to calculate values of predicted_y\n",
        "\n"
      ]
    },
    {
      "cell_type": "markdown",
      "id": "addressed-winter",
      "metadata": {
        "id": "addressed-winter"
      },
      "source": [
        "2.1.2 Implement Linear Regression using `x_train` and `y_train` as the train dataset.\n",
        "\n",
        "2.1.2.1 Choose the best learning rate and print the learning rate for which you achieved the best MSE."
      ]
    },
    {
      "cell_type": "code",
      "execution_count": 30,
      "id": "angry-depression",
      "metadata": {
        "id": "angry-depression"
      },
      "outputs": [],
      "source": [
        "# implement Linear Regression\n",
        "def CostFunction(x,y,w,b):\n",
        "    cost = np.sum((((x.dot(w) + b) - y) ** 2) / (2*len(y)))\n",
        "    return cost\n",
        "\n",
        "def GradientDescent(x, y, w, b, learning_rate, epochs):\n",
        "    cost_list = [0] * epochs\n",
        "   \n",
        "    for epoch in range(epochs):\n",
        "        z = x.dot(w) + b\n",
        "        loss = z - y\n",
        "        \n",
        "        weight_gradient = x.T.dot(loss) / len(y)\n",
        "        bias_gradient = np.sum(loss) / len(y)\n",
        "        \n",
        "        w = w - learning_rate*weight_gradient\n",
        "        b = b - learning_rate*bias_gradient\n",
        "  \n",
        "        cost = CostFunction(x, y, w, b)\n",
        "        cost_list[epoch] = cost\n",
        "        \n",
        "        # if (epoch%(epochs/10)==0):\n",
        "        #     print(\"Cost is:\",cost)\n",
        "        \n",
        "    return w, b, cost_list"
      ]
    },
    {
      "cell_type": "code",
      "source": [
        "def predict(X, w, b):\n",
        "    return X.dot(w) + b\n",
        "# y_pred = predict(x_test, w, b)"
      ],
      "metadata": {
        "id": "HpYp1K3XvXkA"
      },
      "id": "HpYp1K3XvXkA",
      "execution_count": 31,
      "outputs": []
    },
    {
      "cell_type": "code",
      "source": [
        "learning_rate=[0.001+i*(0.001) for i in range(100)]\n",
        "lr_rmse=[]\n",
        "lr_predictions=[]\n",
        "for i in learning_rate:\n",
        "  w, b, c= GradientDescent(x_train, y_train, np.zeros(x_train.shape[1]), 0, i,epochs=15000)\n",
        "  p=predict(x_test, w, b)\n",
        "  lr_predictions.append(p)\n",
        "  rmse=mean_squared_error(y_test,p)\n",
        "  lr_rmse.append(rmse)\n",
        "plt.plot(learning_rate,lr_rmse)"
      ],
      "metadata": {
        "colab": {
          "base_uri": "https://localhost:8080/",
          "height": 283
        },
        "id": "ZuWET5JhuSpv",
        "outputId": "6b5accb0-4367-401e-8d25-bff0d087f653"
      },
      "id": "ZuWET5JhuSpv",
      "execution_count": 32,
      "outputs": [
        {
          "output_type": "execute_result",
          "data": {
            "text/plain": [
              "[<matplotlib.lines.Line2D at 0x7f72c4d0c510>]"
            ]
          },
          "metadata": {},
          "execution_count": 32
        },
        {
          "output_type": "display_data",
          "data": {
            "image/png": "[encoded data removed]",
            "text/plain": [
              "<Figure size 432x288 with 1 Axes>"
            ]
          },
          "metadata": {
            "needs_background": "light"
          }
        }
      ]
    },
    {
      "cell_type": "code",
      "source": [
        "table_data=[i for i in zip(learning_rate,lr_rmse)]\n",
        "print(tabulate(table_data,headers=[\"learning_rate\",\"RMSE\"],tablefmt='grid'))\n"
      ],
      "metadata": {
        "colab": {
          "base_uri": "https://localhost:8080/"
        },
        "id": "DvngxuyZ2TcV",
        "outputId": "f12eca16-ec3a-4be2-c6fa-344c56e6edad"
      },
      "id": "DvngxuyZ2TcV",
      "execution_count": 33,
      "outputs": [
        {
          "output_type": "stream",
          "name": "stdout",
          "text": [
            "+-----------------+------------+\n",
            "|   learning_rate |       RMSE |\n",
            "+=================+============+\n",
            "|           0.001 | 0.013144   |\n",
            "+-----------------+------------+\n",
            "|           0.002 | 0.0054102  |\n",
            "+-----------------+------------+\n",
            "|           0.003 | 0.00393318 |\n",
            "+-----------------+------------+\n",
            "|           0.004 | 0.00350167 |\n",
            "+-----------------+------------+\n",
            "|           0.005 | 0.00334282 |\n",
            "+-----------------+------------+\n",
            "|           0.006 | 0.00327731 |\n",
            "+-----------------+------------+\n",
            "|           0.007 | 0.00324819 |\n",
            "+-----------------+------------+\n",
            "|           0.008 | 0.00323435 |\n",
            "+-----------------+------------+\n",
            "|           0.009 | 0.00322737 |\n",
            "+-----------------+------------+\n",
            "|           0.01  | 0.00322367 |\n",
            "+-----------------+------------+\n",
            "|           0.011 | 0.00322163 |\n",
            "+-----------------+------------+\n",
            "|           0.012 | 0.00322049 |\n",
            "+-----------------+------------+\n",
            "|           0.013 | 0.00321983 |\n",
            "+-----------------+------------+\n",
            "|           0.014 | 0.00321945 |\n",
            "+-----------------+------------+\n",
            "|           0.015 | 0.00321923 |\n",
            "+-----------------+------------+\n",
            "|           0.016 | 0.0032191  |\n",
            "+-----------------+------------+\n",
            "|           0.017 | 0.00321902 |\n",
            "+-----------------+------------+\n",
            "|           0.018 | 0.00321898 |\n",
            "+-----------------+------------+\n",
            "|           0.019 | 0.00321895 |\n",
            "+-----------------+------------+\n",
            "|           0.02  | 0.00321894 |\n",
            "+-----------------+------------+\n",
            "|           0.021 | 0.00321893 |\n",
            "+-----------------+------------+\n",
            "|           0.022 | 0.00321892 |\n",
            "+-----------------+------------+\n",
            "|           0.023 | 0.00321892 |\n",
            "+-----------------+------------+\n",
            "|           0.024 | 0.00321892 |\n",
            "+-----------------+------------+\n",
            "|           0.025 | 0.00321891 |\n",
            "+-----------------+------------+\n",
            "|           0.026 | 0.00321891 |\n",
            "+-----------------+------------+\n",
            "|           0.027 | 0.00321891 |\n",
            "+-----------------+------------+\n",
            "|           0.028 | 0.00321891 |\n",
            "+-----------------+------------+\n",
            "|           0.029 | 0.00321891 |\n",
            "+-----------------+------------+\n",
            "|           0.03  | 0.00321891 |\n",
            "+-----------------+------------+\n",
            "|           0.031 | 0.00321891 |\n",
            "+-----------------+------------+\n",
            "|           0.032 | 0.00321891 |\n",
            "+-----------------+------------+\n",
            "|           0.033 | 0.00321891 |\n",
            "+-----------------+------------+\n",
            "|           0.034 | 0.00321891 |\n",
            "+-----------------+------------+\n",
            "|           0.035 | 0.00321891 |\n",
            "+-----------------+------------+\n",
            "|           0.036 | 0.00321891 |\n",
            "+-----------------+------------+\n",
            "|           0.037 | 0.00321891 |\n",
            "+-----------------+------------+\n",
            "|           0.038 | 0.00321891 |\n",
            "+-----------------+------------+\n",
            "|           0.039 | 0.00321891 |\n",
            "+-----------------+------------+\n",
            "|           0.04  | 0.00321891 |\n",
            "+-----------------+------------+\n",
            "|           0.041 | 0.00321891 |\n",
            "+-----------------+------------+\n",
            "|           0.042 | 0.00321891 |\n",
            "+-----------------+------------+\n",
            "|           0.043 | 0.00321891 |\n",
            "+-----------------+------------+\n",
            "|           0.044 | 0.00321891 |\n",
            "+-----------------+------------+\n",
            "|           0.045 | 0.00321891 |\n",
            "+-----------------+------------+\n",
            "|           0.046 | 0.00321891 |\n",
            "+-----------------+------------+\n",
            "|           0.047 | 0.00321891 |\n",
            "+-----------------+------------+\n",
            "|           0.048 | 0.00321891 |\n",
            "+-----------------+------------+\n",
            "|           0.049 | 0.00321891 |\n",
            "+-----------------+------------+\n",
            "|           0.05  | 0.00321891 |\n",
            "+-----------------+------------+\n",
            "|           0.051 | 0.00321891 |\n",
            "+-----------------+------------+\n",
            "|           0.052 | 0.00321891 |\n",
            "+-----------------+------------+\n",
            "|           0.053 | 0.00321891 |\n",
            "+-----------------+------------+\n",
            "|           0.054 | 0.00321891 |\n",
            "+-----------------+------------+\n",
            "|           0.055 | 0.00321891 |\n",
            "+-----------------+------------+\n",
            "|           0.056 | 0.00321891 |\n",
            "+-----------------+------------+\n",
            "|           0.057 | 0.00321891 |\n",
            "+-----------------+------------+\n",
            "|           0.058 | 0.00321891 |\n",
            "+-----------------+------------+\n",
            "|           0.059 | 0.00321891 |\n",
            "+-----------------+------------+\n",
            "|           0.06  | 0.00321891 |\n",
            "+-----------------+------------+\n",
            "|           0.061 | 0.00321891 |\n",
            "+-----------------+------------+\n",
            "|           0.062 | 0.00321891 |\n",
            "+-----------------+------------+\n",
            "|           0.063 | 0.00321891 |\n",
            "+-----------------+------------+\n",
            "|           0.064 | 0.00321891 |\n",
            "+-----------------+------------+\n",
            "|           0.065 | 0.00321891 |\n",
            "+-----------------+------------+\n",
            "|           0.066 | 0.00321891 |\n",
            "+-----------------+------------+\n",
            "|           0.067 | 0.00321891 |\n",
            "+-----------------+------------+\n",
            "|           0.068 | 0.00321891 |\n",
            "+-----------------+------------+\n",
            "|           0.069 | 0.00321891 |\n",
            "+-----------------+------------+\n",
            "|           0.07  | 0.00321891 |\n",
            "+-----------------+------------+\n",
            "|           0.071 | 0.00321891 |\n",
            "+-----------------+------------+\n",
            "|           0.072 | 0.00321891 |\n",
            "+-----------------+------------+\n",
            "|           0.073 | 0.00321891 |\n",
            "+-----------------+------------+\n",
            "|           0.074 | 0.00321891 |\n",
            "+-----------------+------------+\n",
            "|           0.075 | 0.00321891 |\n",
            "+-----------------+------------+\n",
            "|           0.076 | 0.00321891 |\n",
            "+-----------------+------------+\n",
            "|           0.077 | 0.00321891 |\n",
            "+-----------------+------------+\n",
            "|           0.078 | 0.00321891 |\n",
            "+-----------------+------------+\n",
            "|           0.079 | 0.00321891 |\n",
            "+-----------------+------------+\n",
            "|           0.08  | 0.00321891 |\n",
            "+-----------------+------------+\n",
            "|           0.081 | 0.00321891 |\n",
            "+-----------------+------------+\n",
            "|           0.082 | 0.00321891 |\n",
            "+-----------------+------------+\n",
            "|           0.083 | 0.00321891 |\n",
            "+-----------------+------------+\n",
            "|           0.084 | 0.00321891 |\n",
            "+-----------------+------------+\n",
            "|           0.085 | 0.00321891 |\n",
            "+-----------------+------------+\n",
            "|           0.086 | 0.00321891 |\n",
            "+-----------------+------------+\n",
            "|           0.087 | 0.00321891 |\n",
            "+-----------------+------------+\n",
            "|           0.088 | 0.00321891 |\n",
            "+-----------------+------------+\n",
            "|           0.089 | 0.00321891 |\n",
            "+-----------------+------------+\n",
            "|           0.09  | 0.00321891 |\n",
            "+-----------------+------------+\n",
            "|           0.091 | 0.00321891 |\n",
            "+-----------------+------------+\n",
            "|           0.092 | 0.00321891 |\n",
            "+-----------------+------------+\n",
            "|           0.093 | 0.00321891 |\n",
            "+-----------------+------------+\n",
            "|           0.094 | 0.00321891 |\n",
            "+-----------------+------------+\n",
            "|           0.095 | 0.00321891 |\n",
            "+-----------------+------------+\n",
            "|           0.096 | 0.00321891 |\n",
            "+-----------------+------------+\n",
            "|           0.097 | 0.00321891 |\n",
            "+-----------------+------------+\n",
            "|           0.098 | 0.00321891 |\n",
            "+-----------------+------------+\n",
            "|           0.099 | 0.00321891 |\n",
            "+-----------------+------------+\n",
            "|           0.1   | 0.00321891 |\n",
            "+-----------------+------------+\n"
          ]
        }
      ]
    },
    {
      "cell_type": "code",
      "source": [
        "min_lr_rmse=min(lr_rmse)\n",
        "print(\"Minimum RMSE is :\",min_lr_rmse,end=\" \")\n",
        "index_min_lr=lr_rmse.index(min_lr_rmse)\n",
        "print(\"at learning rate of \",learning_rate[index_min_lr])\n",
        "y_pred=lr_predictions[index_min_lr]"
      ],
      "metadata": {
        "colab": {
          "base_uri": "https://localhost:8080/"
        },
        "id": "kiOk2xk05gjM",
        "outputId": "1100c748-9b01-4657-c112-b582ce362a47"
      },
      "id": "kiOk2xk05gjM",
      "execution_count": 34,
      "outputs": [
        {
          "output_type": "stream",
          "name": "stdout",
          "text": [
            "Minimum RMSE is : 0.003218913371238692 at learning rate of  0.1\n"
          ]
        }
      ]
    },
    {
      "cell_type": "markdown",
      "id": "angry-tampa",
      "metadata": {
        "id": "angry-tampa"
      },
      "source": [
        "2.1.3 Make a [Parity Plot](https://en.wikipedia.org/wiki/Parity_plot) of your model's bandgap predictions on the test set with the actual values."
      ]
    },
    {
      "cell_type": "code",
      "execution_count": 35,
      "id": "foster-center",
      "metadata": {
        "id": "foster-center",
        "outputId": "c476a588-bd19-4914-8397-c3a583bfbd38",
        "colab": {
          "base_uri": "https://localhost:8080/",
          "height": 636
        }
      },
      "outputs": [
        {
          "output_type": "display_data",
          "data": {
            "image/png": "[encoded data removed]",
            "text/plain": [
              "<Figure size 720x1440 with 1 Axes>"
            ]
          },
          "metadata": {
            "needs_background": "light"
          }
        }
      ],
      "source": [
        "# Get the predictions of x_test into `y_pred`\n",
        "\n",
        "#\n",
        "# ...\n",
        "#\n",
        "\n",
        "import matplotlib.pyplot as plt\n",
        "fig, ax = plt.subplots(figsize=(10,20))\n",
        "\n",
        "ax.scatter(y_test, y_pred)\n",
        "\n",
        "lims = [\n",
        "    np.min([ax.get_xlim(), ax.get_ylim()]),\n",
        "    np.max([ax.get_xlim(), ax.get_ylim()]),\n",
        "]\n",
        "ax.plot(lims, lims, 'k-', alpha=0.75, zorder=0)\n",
        "ax.set_aspect('equal')\n",
        "ax.set_xlim(lims)\n",
        "ax.set_ylim(lims)\n",
        "\n",
        "ax.set_title('Parity Plot of Custom Linear Regression')\n",
        "ax.set_xlabel('Ground truth bandgap values')\n",
        "ax.set_ylabel('Predicted bandgap values')\n",
        "plt.show()"
      ]
    },
    {
      "cell_type": "markdown",
      "id": "dominant-chaos",
      "metadata": {
        "id": "dominant-chaos"
      },
      "source": [
        "### 2.2 Implement Ridge regression\n",
        "2.2.1 Explain Ridge regression briefly in 1-2 lines."
      ]
    },
    {
      "cell_type": "markdown",
      "source": [
        "- Ridge regression is a model tuning method that is used to analyse any data that suffers from multicollinearity. \n",
        "- This method performs L2 regularization. \n",
        "- When the issue of multicollinearity occurs, least-squares are unbiased, and variances are large, this results in predicted values being far away from the actual values."
      ],
      "metadata": {
        "id": "i9VyKmcJ_GtS"
      },
      "id": "i9VyKmcJ_GtS"
    },
    {
      "cell_type": "markdown",
      "id": "happy-cyprus",
      "metadata": {
        "id": "happy-cyprus"
      },
      "source": [
        "<!-- Your answer to 1.2.1 -->"
      ]
    },
    {
      "cell_type": "markdown",
      "id": "tight-forwarding",
      "metadata": {
        "id": "tight-forwarding"
      },
      "source": [
        "2.2.2 Implement Ridge regression and make a table of different RMSE scores you achieved with different values of alpha. What does the parameter `alpha` do? How does it affect the results here? Explain in 5-10 lines in total. (You can use scikit-learn from this cell onwards)"
      ]
    },
    {
      "cell_type": "markdown",
      "source": [
        " - Ridge regression performs ‘L2 regularization‘, i.e. it adds a factor of sum of squares of coefficients in the optimization objective. \n",
        " - Here, α (alpha) is the parameter which balances the amount of emphasis given to minimizing RSS vs minimizing sum of square of coefficients. α can take various values ranging from 0 to infinite.\n",
        " - The magnitude of α will decide the weightage given to different parts of objective. The coefficients will be somewhere between 0 and ones for simple linear regression.\n"
      ],
      "metadata": {
        "id": "d_EX3oLNAprL"
      },
      "id": "d_EX3oLNAprL"
    },
    {
      "cell_type": "code",
      "execution_count": 36,
      "id": "violent-northern",
      "metadata": {
        "id": "violent-northern"
      },
      "outputs": [],
      "source": [
        "# you should not have imported sklearn before this point\n",
        "import sklearn\n",
        "# implement Ridge regression and make a table where you explore the effect of different values of `alpha`\n",
        "initial_alpha=1.0\n",
        "alpha_values=[1.0+i*(0.05) for i in range(20)]\n",
        "predictions_ridge=[]\n",
        "for a in alpha_values:\n",
        "  clf = Ridge(alpha=a)\n",
        "  clf.fit(x_train, y_train)\n",
        "  prediction=clf.predict(x_test)\n",
        "  predictions_ridge.append(prediction)"
      ]
    },
    {
      "cell_type": "code",
      "source": [
        "rmse_values=[]\n",
        "for prediction in predictions_ridge:\n",
        "  rmse=mean_squared_error(y_test, prediction)\n",
        "  rmse_values.append(rmse)"
      ],
      "metadata": {
        "id": "phG1xz9PzK-V"
      },
      "id": "phG1xz9PzK-V",
      "execution_count": 37,
      "outputs": []
    },
    {
      "cell_type": "code",
      "source": [
        "from tabulate import tabulate\n",
        "table_data=[i for i in zip(alpha_values,rmse_values)]\n",
        "print(tabulate(table_data,headers=[\"Alpha\",\"RMSE\"],tablefmt='grid'))"
      ],
      "metadata": {
        "id": "F382VBE007nw",
        "colab": {
          "base_uri": "https://localhost:8080/"
        },
        "outputId": "ead793a5-d137-449f-98db-98f1a97f10c0"
      },
      "id": "F382VBE007nw",
      "execution_count": 38,
      "outputs": [
        {
          "output_type": "stream",
          "name": "stdout",
          "text": [
            "+---------+------------+\n",
            "|   Alpha |       RMSE |\n",
            "+=========+============+\n",
            "|    1    | 0.00727152 |\n",
            "+---------+------------+\n",
            "|    1.05 | 0.00756775 |\n",
            "+---------+------------+\n",
            "|    1.1  | 0.0078685  |\n",
            "+---------+------------+\n",
            "|    1.15 | 0.00817338 |\n",
            "+---------+------------+\n",
            "|    1.2  | 0.00848204 |\n",
            "+---------+------------+\n",
            "|    1.25 | 0.00879414 |\n",
            "+---------+------------+\n",
            "|    1.3  | 0.00910935 |\n",
            "+---------+------------+\n",
            "|    1.35 | 0.00942739 |\n",
            "+---------+------------+\n",
            "|    1.4  | 0.00974798 |\n",
            "+---------+------------+\n",
            "|    1.45 | 0.0100709  |\n",
            "+---------+------------+\n",
            "|    1.5  | 0.0103958  |\n",
            "+---------+------------+\n",
            "|    1.55 | 0.0107225  |\n",
            "+---------+------------+\n",
            "|    1.6  | 0.0110509  |\n",
            "+---------+------------+\n",
            "|    1.65 | 0.0113806  |\n",
            "+---------+------------+\n",
            "|    1.7  | 0.0117116  |\n",
            "+---------+------------+\n",
            "|    1.75 | 0.0120436  |\n",
            "+---------+------------+\n",
            "|    1.8  | 0.0123765  |\n",
            "+---------+------------+\n",
            "|    1.85 | 0.0127101  |\n",
            "+---------+------------+\n",
            "|    1.9  | 0.0130443  |\n",
            "+---------+------------+\n",
            "|    1.95 | 0.013379   |\n",
            "+---------+------------+\n"
          ]
        }
      ]
    },
    {
      "cell_type": "markdown",
      "id": "adolescent-temperature",
      "metadata": {
        "id": "adolescent-temperature"
      },
      "source": [
        "### 2.3 Implement Lasso regression\n",
        "2.3.1 Explain Lasso regression briefly in 1-2 lines."
      ]
    },
    {
      "cell_type": "markdown",
      "source": [
        "**Lasso** stands for **Least absolute and Selection Operator**. It is another type of regularization technique used to reduce the complexity of the model. It is similar to ridge regression except that the penalty term includes the absolute weight instead of the square of weights."
      ],
      "metadata": {
        "id": "GJAcx2KlKCpL"
      },
      "id": "GJAcx2KlKCpL"
    },
    {
      "cell_type": "markdown",
      "id": "popular-wonder",
      "metadata": {
        "id": "popular-wonder"
      },
      "source": [
        "2.3.2 Implement Lasso regression and make a table of different RMSE scores you achieved with different values of alpha. What does the parameter `alpha` do? How does it affect the results here? Explain in 5-10 lines in total."
      ]
    },
    {
      "cell_type": "markdown",
      "source": [
        "- Lasso regression perform L1 regularization i.e, adds penalty equivalent to absolute value of the magnitude of coefficients\n",
        "- Lasso regression tends to make coefficients to absolute zero. \n",
        "- When alpha is 0, Lasso regression produces the same coefficients as a linear regression. When alpha is very very large, all coefficients are zero then it converges to a minimum mse.\n",
        "- For the same values of alpha, the coefficients of lasso regression are much smaller as compared to that of ridge regression \n",
        "- Many of the coefficients are zero even for very small values of alpha"
      ],
      "metadata": {
        "id": "AyEwOgQEKdOB"
      },
      "id": "AyEwOgQEKdOB"
    },
    {
      "cell_type": "markdown",
      "source": [
        "### Implement Lasso regression and make a table where you explore the effect of different values of `alpha`"
      ],
      "metadata": {
        "id": "w-XSeege2Kg2"
      },
      "id": "w-XSeege2Kg2"
    },
    {
      "cell_type": "code",
      "source": [
        "alpha_values=[.0001+i*(.0001) for i in range(20)]\n",
        "predictions_lasso=[]\n",
        "rmse_lasso=[]\n",
        "for alpha in alpha_values:\n",
        "  clf = Lasso(alpha=alpha)\n",
        "  clf.fit(x_train,y_train)\n",
        "  prediction=clf.predict(x_test)\n",
        "  predictions_lasso.append(prediction)\n",
        "  rmse=mean_squared_error(y_test, prediction)\n",
        "  rmse_lasso.append(rmse)\n",
        "table_data=[i for i in zip(alpha_values,rmse_lasso)]\n",
        "print(tabulate(table_data,headers=[\"Alpha\",\"RMSE\"],tablefmt='grid'))"
      ],
      "metadata": {
        "id": "O93OLbID6GFs",
        "colab": {
          "base_uri": "https://localhost:8080/"
        },
        "outputId": "a5065168-4f1f-4989-8c5d-2c385411c0da"
      },
      "id": "O93OLbID6GFs",
      "execution_count": 39,
      "outputs": [
        {
          "output_type": "stream",
          "name": "stdout",
          "text": [
            "+---------+------------+\n",
            "|   Alpha |       RMSE |\n",
            "+=========+============+\n",
            "|  0.0001 | 0.00324226 |\n",
            "+---------+------------+\n",
            "|  0.0002 | 0.0032667  |\n",
            "+---------+------------+\n",
            "|  0.0003 | 0.00329204 |\n",
            "+---------+------------+\n",
            "|  0.0004 | 0.00331829 |\n",
            "+---------+------------+\n",
            "|  0.0005 | 0.00334543 |\n",
            "+---------+------------+\n",
            "|  0.0006 | 0.00337349 |\n",
            "+---------+------------+\n",
            "|  0.0007 | 0.00339806 |\n",
            "+---------+------------+\n",
            "|  0.0008 | 0.00340594 |\n",
            "+---------+------------+\n",
            "|  0.0009 | 0.00341425 |\n",
            "+---------+------------+\n",
            "|  0.001  | 0.003423   |\n",
            "+---------+------------+\n",
            "|  0.0011 | 0.00343219 |\n",
            "+---------+------------+\n",
            "|  0.0012 | 0.0034418  |\n",
            "+---------+------------+\n",
            "|  0.0013 | 0.00345185 |\n",
            "+---------+------------+\n",
            "|  0.0014 | 0.00346233 |\n",
            "+---------+------------+\n",
            "|  0.0015 | 0.00347325 |\n",
            "+---------+------------+\n",
            "|  0.0016 | 0.0034846  |\n",
            "+---------+------------+\n",
            "|  0.0017 | 0.00349638 |\n",
            "+---------+------------+\n",
            "|  0.0018 | 0.00350859 |\n",
            "+---------+------------+\n",
            "|  0.0019 | 0.00352123 |\n",
            "+---------+------------+\n",
            "|  0.002  | 0.00353431 |\n",
            "+---------+------------+\n"
          ]
        }
      ]
    }
  ],
  "metadata": {
    "kernelspec": {
      "display_name": "Python 3",
      "language": "python",
      "name": "python3"
    },
    "language_info": {
      "codemirror_mode": {
        "name": "ipython",
        "version": 3
      },
      "file_extension": ".py",
      "mimetype": "text/x-python",
      "name": "python",
      "nbconvert_exporter": "python",
      "pygments_lexer": "ipython3",
      "version": "3.8.5"
    },
    "colab": {
      "name": "2021201041_Assignment2_Q2.ipynb",
      "provenance": []
    }
  },
  "nbformat": 4,
  "nbformat_minor": 5
}